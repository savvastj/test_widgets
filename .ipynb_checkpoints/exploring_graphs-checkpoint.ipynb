{
 "cells": [
  {
   "cell_type": "markdown",
   "metadata": {},
   "source": [
    "## Explore Random Graphs Using NetworkX"
   ]
  },
  {
   "cell_type": "markdown",
   "metadata": {},
   "source": [
    "In this example, we build a simple UI for exploring random graphs with [NetworkX](http://networkx.github.io/)."
   ]
  },
  {
   "cell_type": "code",
   "execution_count": 1,
   "metadata": {
    "collapsed": true
   },
   "outputs": [],
   "source": [
    "from ipywidgets import interact"
   ]
  },
  {
   "cell_type": "code",
   "execution_count": 2,
   "metadata": {
    "collapsed": true
   },
   "outputs": [],
   "source": [
    "%matplotlib inline\n",
    "import matplotlib.pyplot as plt"
   ]
  },
  {
   "cell_type": "code",
   "execution_count": 3,
   "metadata": {
    "collapsed": true
   },
   "outputs": [],
   "source": [
    "import networkx as nx"
   ]
  },
  {
   "cell_type": "code",
   "execution_count": 4,
   "metadata": {
    "collapsed": true
   },
   "outputs": [],
   "source": [
    "# wrap a few graph generation functions so they have the same signature\n",
    "\n",
    "def random_lobster(n, m, k, p):\n",
    "    return nx.random_lobster(n, p, p / m)\n",
    "\n",
    "def powerlaw_cluster(n, m, k, p):\n",
    "    return nx.powerlaw_cluster_graph(n, m, p)\n",
    "\n",
    "def erdos_renyi(n, m, k, p):\n",
    "    return nx.erdos_renyi_graph(n, p)\n",
    "\n",
    "def newman_watts_strogatz(n, m, k, p):\n",
    "    return nx.newman_watts_strogatz_graph(n, k, p)\n",
    "\n",
    "def plot_random_graph(n, m, k, p, generator):\n",
    "    g = generator(n, m, k, p)\n",
    "    nx.draw(g)\n",
    "    plt.show()"
   ]
  },
  {
   "cell_type": "code",
   "execution_count": 5,
   "metadata": {},
   "outputs": [
    {
     "data": {
      "application/vnd.jupyter.widget-view+json": {
       "model_id": "541d010a67c84a169d69c919dc102ed8",
       "version_major": 2,
       "version_minor": 0
      },
      "text/html": [
       "<p>Failed to display Jupyter Widget of type <code>interactive</code>.</p>\n",
       "<p>\n",
       "  If you're reading this message in Jupyter Notebook or JupyterLab, it may mean\n",
       "  that the widgets JavaScript is still loading. If this message persists, it\n",
       "  likely means that the widgets JavaScript library is either not installed or\n",
       "  not enabled. See the <a href=\"https://ipywidgets.readthedocs.io/en/stable/user_install.html\">Jupyter\n",
       "  Widgets Documentation</a> for setup instructions.\n",
       "</p>\n",
       "<p>\n",
       "  If you're reading this message in another notebook frontend (for example, a static\n",
       "  rendering on GitHub or <a href=\"https://nbviewer.jupyter.org/\">NBViewer</a>),\n",
       "  it may mean that your frontend doesn't currently support widgets.\n",
       "</p>\n"
      ],
      "text/plain": [
       "interactive(children=(IntSlider(value=16, description='n', max=30, min=2), IntSlider(value=5, description='m', max=10, min=1), IntSlider(value=5, description='k', max=10, min=1), FloatSlider(value=0.5, description='p', max=1.0, step=0.001), Dropdown(description='generator', options={'lobster': <function random_lobster at 0x7f8809ed4488>, 'power law': <function powerlaw_cluster at 0x7f88107438c8>, 'Newman-Watts-Strogatz': <function newman_watts_strogatz at 0x7f880a348158>, 'Erdős-Rényi': <function erdos_renyi at 0x7f8810743950>}, value=<function random_lobster at 0x7f8809ed4488>), Output()), _dom_classes=('widget-interact',))"
      ]
     },
     "metadata": {},
     "output_type": "display_data"
    }
   ],
   "source": [
    "interact(plot_random_graph, n=(2,30), m=(1,10), k=(1,10), p=(0.0, 1.0, 0.001),\n",
    "         generator={\n",
    "             'lobster': random_lobster,\n",
    "             'power law': powerlaw_cluster,\n",
    "             'Newman-Watts-Strogatz': newman_watts_strogatz,\n",
    "             u'Erdős-Rényi': erdos_renyi,\n",
    "         });"
   ]
  }
 ],
 "metadata": {
  "kernelspec": {
   "display_name": "Python 3",
   "language": "python",
   "name": "python3"
  },
  "language_info": {
   "codemirror_mode": {
    "name": "ipython",
    "version": 3
   },
   "file_extension": ".py",
   "mimetype": "text/x-python",
   "name": "python",
   "nbconvert_exporter": "python",
   "pygments_lexer": "ipython3",
   "version": "3.6.2"
  },
  "widgets": {
   "application/vnd.jupyter.widget-state+json": {
    "state": {
     "0d57204a61a849de9515002e214f4bdd": {
      "model_module": "@jupyter-widgets/controls",
      "model_module_version": "1.0.0",
      "model_name": "SliderStyleModel",
      "state": {
       "description_width": ""
      }
     },
     "11a57c002890481c995eed849b3b3ce7": {
      "model_module": "@jupyter-widgets/controls",
      "model_module_version": "1.0.0",
      "model_name": "FloatSliderModel",
      "state": {
       "description": "p",
       "layout": "IPY_MODEL_85352b919218421ba6f3a87dc4a184e8",
       "max": 1,
       "step": 0.001,
       "style": "IPY_MODEL_c365ae010f91466caeaa2449b7f4d250",
       "value": 0.5
      }
     },
     "251cdaf95aec45cfaf495bc46b5385c3": {
      "model_module": "@jupyter-widgets/output",
      "model_module_version": "1.0.0",
      "model_name": "OutputModel",
      "state": {
       "layout": "IPY_MODEL_83903bb019c144fc9a1a99883c2f5df2",
       "outputs": [
        {
         "name": "stderr",
         "output_type": "stream",
         "text": "/home/savvas/miniconda3/envs/wvH2/lib/python3.6/site-packages/networkx/drawing/nx_pylab.py:126: MatplotlibDeprecationWarning: pyplot.hold is deprecated.\n    Future behavior will be consistent with the long-time default:\n    plot commands add elements without first clearing the\n    Axes and/or Figure.\n  b = plt.ishold()\n/home/savvas/miniconda3/envs/wvH2/lib/python3.6/site-packages/networkx/drawing/nx_pylab.py:138: MatplotlibDeprecationWarning: pyplot.hold is deprecated.\n    Future behavior will be consistent with the long-time default:\n    plot commands add elements without first clearing the\n    Axes and/or Figure.\n  plt.hold(b)\n/home/savvas/miniconda3/envs/wvH2/lib/python3.6/site-packages/matplotlib/__init__.py:917: UserWarning: axes.hold is deprecated. Please remove it from your matplotlibrc and/or style files.\n  warnings.warn(self.msg_depr_set % key)\n/home/savvas/miniconda3/envs/wvH2/lib/python3.6/site-packages/matplotlib/rcsetup.py:152: UserWarning: axes.hold is deprecated, will be removed in 3.0\n  warnings.warn(\"axes.hold is deprecated, will be removed in 3.0\")\n"
        },
        {
         "data": {
          "image/png": "iVBORw0KGgoAAAANSUhEUgAAAdgAAAFCCAYAAABSJMy8AAAABHNCSVQICAgIfAhkiAAAAAlwSFlz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\nYII=\n",
          "text/plain": "<matplotlib.figure.Figure at 0x7f8809ee2ac8>"
         },
         "metadata": {},
         "output_type": "display_data"
        }
       ]
      }
     },
     "2a66f61684a34e1181c312275e2c6551": {
      "model_module": "@jupyter-widgets/controls",
      "model_module_version": "1.0.0",
      "model_name": "SliderStyleModel",
      "state": {
       "description_width": ""
      }
     },
     "2aee4753fc634dc897d4db40979aae95": {
      "model_module": "@jupyter-widgets/base",
      "model_module_version": "1.0.0",
      "model_name": "LayoutModel",
      "state": {}
     },
     "3f1d46be3bf94004bb33f7cd1e88a1c3": {
      "model_module": "@jupyter-widgets/base",
      "model_module_version": "1.0.0",
      "model_name": "LayoutModel",
      "state": {}
     },
     "3f7d699370ee482f9446ec651268bded": {
      "model_module": "@jupyter-widgets/controls",
      "model_module_version": "1.0.0",
      "model_name": "DropdownModel",
      "state": {
       "_options_labels": [
        "lobster",
        "power law",
        "Newman-Watts-Strogatz",
        "Erdős-Rényi"
       ],
       "description": "generator",
       "index": 0,
       "layout": "IPY_MODEL_3f1d46be3bf94004bb33f7cd1e88a1c3",
       "style": "IPY_MODEL_cb21022e658d4d0c835e0b86bd84b5b5"
      }
     },
     "47b193b282c44ce494f2081a9ba73a8c": {
      "model_module": "@jupyter-widgets/controls",
      "model_module_version": "1.0.0",
      "model_name": "IntSliderModel",
      "state": {
       "description": "k",
       "layout": "IPY_MODEL_ed498f21f3bd4b63b93c963e6e6a9962",
       "max": 10,
       "min": 1,
       "style": "IPY_MODEL_e184c1b1a0af406a8a5d8a5539edf367",
       "value": 5
      }
     },
     "490a955f92d641a5bc8cded6f05d93ea": {
      "model_module": "@jupyter-widgets/base",
      "model_module_version": "1.0.0",
      "model_name": "LayoutModel",
      "state": {}
     },
     "541d010a67c84a169d69c919dc102ed8": {
      "model_module": "@jupyter-widgets/controls",
      "model_module_version": "1.0.0",
      "model_name": "VBoxModel",
      "state": {
       "_dom_classes": [
        "widget-interact"
       ],
       "children": [
        "IPY_MODEL_9515895be45f49b5b2104072e9be04d8",
        "IPY_MODEL_e7da05448f8340fa983f4d03629e0dac",
        "IPY_MODEL_47b193b282c44ce494f2081a9ba73a8c",
        "IPY_MODEL_11a57c002890481c995eed849b3b3ce7",
        "IPY_MODEL_3f7d699370ee482f9446ec651268bded",
        "IPY_MODEL_251cdaf95aec45cfaf495bc46b5385c3"
       ],
       "layout": "IPY_MODEL_490a955f92d641a5bc8cded6f05d93ea"
      }
     },
     "83903bb019c144fc9a1a99883c2f5df2": {
      "model_module": "@jupyter-widgets/base",
      "model_module_version": "1.0.0",
      "model_name": "LayoutModel",
      "state": {}
     },
     "83c18840e7d9490f82689ca9ff8664a6": {
      "model_module": "@jupyter-widgets/base",
      "model_module_version": "1.0.0",
      "model_name": "LayoutModel",
      "state": {}
     },
     "85352b919218421ba6f3a87dc4a184e8": {
      "model_module": "@jupyter-widgets/base",
      "model_module_version": "1.0.0",
      "model_name": "LayoutModel",
      "state": {}
     },
     "9515895be45f49b5b2104072e9be04d8": {
      "model_module": "@jupyter-widgets/controls",
      "model_module_version": "1.0.0",
      "model_name": "IntSliderModel",
      "state": {
       "description": "n",
       "layout": "IPY_MODEL_83c18840e7d9490f82689ca9ff8664a6",
       "max": 30,
       "min": 2,
       "style": "IPY_MODEL_0d57204a61a849de9515002e214f4bdd",
       "value": 16
      }
     },
     "c365ae010f91466caeaa2449b7f4d250": {
      "model_module": "@jupyter-widgets/controls",
      "model_module_version": "1.0.0",
      "model_name": "SliderStyleModel",
      "state": {
       "description_width": ""
      }
     },
     "cb21022e658d4d0c835e0b86bd84b5b5": {
      "model_module": "@jupyter-widgets/controls",
      "model_module_version": "1.0.0",
      "model_name": "DescriptionStyleModel",
      "state": {
       "description_width": ""
      }
     },
     "e184c1b1a0af406a8a5d8a5539edf367": {
      "model_module": "@jupyter-widgets/controls",
      "model_module_version": "1.0.0",
      "model_name": "SliderStyleModel",
      "state": {
       "description_width": ""
      }
     },
     "e7da05448f8340fa983f4d03629e0dac": {
      "model_module": "@jupyter-widgets/controls",
      "model_module_version": "1.0.0",
      "model_name": "IntSliderModel",
      "state": {
       "description": "m",
       "layout": "IPY_MODEL_2aee4753fc634dc897d4db40979aae95",
       "max": 10,
       "min": 1,
       "style": "IPY_MODEL_2a66f61684a34e1181c312275e2c6551",
       "value": 5
      }
     },
     "ed498f21f3bd4b63b93c963e6e6a9962": {
      "model_module": "@jupyter-widgets/base",
      "model_module_version": "1.0.0",
      "model_name": "LayoutModel",
      "state": {}
     }
    },
    "version_major": 2,
    "version_minor": 0
   }
  }
 },
 "nbformat": 4,
 "nbformat_minor": 1
}
